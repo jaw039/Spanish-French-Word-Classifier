{
 "cells": [
  {
   "cell_type": "markdown",
   "metadata": {},
   "source": [
    "DSC140A SuperHW"
   ]
  },
  {
   "cell_type": "markdown",
   "metadata": {},
   "source": [
    "The problem. Consider the words “meilleur” and “mejor”. In English, both of these words mean “best”\n",
    "– one in French and the other in Spanish. Even if you don’t know how to speak either of these languages,\n",
    "you might be able to guess which word is Spanish and which is French based on the spelling. For example,\n",
    "the word “meilleur” looks more like a French word than a Spanish word due to it containing “ei” and ending\n",
    "in “eur”. On the other hand, the word “mejor” looks more like a Spanish word than a French word due to it\n",
    "containing “j” and ending in “or”. This suggests that there is some statistical structure in the words of these\n",
    "languages that we can use to build a machine learning model capable of distinguishing between French and\n",
    "Spanish without actually understanding the words themselves."
   ]
  },
  {
   "cell_type": "markdown",
   "metadata": {},
   "source": [
    "Your goal in this problem is to build a machine learning model that can take a word as input and predict\n",
    "whether it is Spanish or French."
   ]
  },
  {
   "cell_type": "markdown",
   "metadata": {},
   "source": [
    "• train_words: a list of n strings, each one of them a word (in either Spanish or French)\n"
   ]
  },
  {
   "cell_type": "markdown",
   "metadata": {},
   "source": [
    "• train_labels: a list of n strings, each one of them either \"spanish\" or \"french\", indicating the\n",
    "language of the corresponding word in train_words"
   ]
  },
  {
   "cell_type": "markdown",
   "metadata": {},
   "source": [
    "•  test_words: a list of m strings, each one of them a word (in either Spanish or French)\n"
   ]
  },
  {
   "cell_type": "markdown",
   "metadata": {},
   "source": [
    "This function should return a list of m strings, each one of them either \"spanish\" or \"french\", indicating\n",
    "your classifier’s prediction for the language of the corresponding word in test_words.\n",
    "Your classify() function is responsible for training your machine learning model on the training data and\n",
    "then using that model to make predictions on the test data.\n"
   ]
  },
  {
   "cell_type": "markdown",
   "metadata": {},
   "source": [
    "A good choice of features is important. You might want to consider using the frequency of different\n",
    "letters or pairs of letters in each word as features. For example, one of your features might be whether\n",
    "“el” appears in the word. You do not need to create all of these features by hand – you can use Python\n",
    "to help you generate them."
   ]
  },
  {
   "cell_type": "markdown",
   "metadata": {},
   "source": [
    "Don’t confuse training accuracy with test accuracy. It is possible to achieve 90%+ training accuracy\n",
    "on this data set, but that doesn’t mean your model will generalize well to the test set.\n",
    "2\n",
    "• Be careful to avoid overfitting! If you use too many features or too complex of a model, you may find\n",
    "that your model performs well on the training data but poorly on the test data.\n",
    "• Start with the simplest models first. We have learned some models in this class that can be implemented\n",
    "using only a couple lines of code (with numpy)."
   ]
  },
  {
   "cell_type": "code",
   "execution_count": null,
   "metadata": {},
   "outputs": [],
   "source": []
  }
 ],
 "metadata": {
  "kernelspec": {
   "display_name": "Python 3 (ipykernel)",
   "language": "python",
   "name": "python3"
  },
  "language_info": {
   "codemirror_mode": {
    "name": "ipython",
    "version": 3
   },
   "file_extension": ".py",
   "mimetype": "text/x-python",
   "name": "python",
   "nbconvert_exporter": "python",
   "pygments_lexer": "ipython3",
   "version": "3.13.1"
  }
 },
 "nbformat": 4,
 "nbformat_minor": 4
}
